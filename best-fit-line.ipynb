{
 "cells": [
  {
   "cell_type": "code",
   "execution_count": 1,
   "id": "f5e62816",
   "metadata": {},
   "outputs": [],
   "source": [
    "import numpy as np"
   ]
  },
  {
   "cell_type": "markdown",
   "id": "a3bf9965",
   "metadata": {},
   "source": [
    "### Step 1. Create a random pair of (x,y) coordinates with some noise"
   ]
  },
  {
   "cell_type": "code",
   "execution_count": 12,
   "id": "c78d7ed0",
   "metadata": {},
   "outputs": [
    {
     "name": "stdout",
     "output_type": "stream",
     "text": [
      "[0. 1. 2. 3. 4. 5. 6. 7. 8. 9.] [ 5.84725489  7.53574759  9.95912362 11.30599909 13.92921188 15.83501718\n",
      " 17.93098195 19.12315075 21.15866168 23.43477768]\n"
     ]
    }
   ],
   "source": [
    "x=np.arange(10.0)\n",
    "rng=np.random.default_rng()\n",
    "y=2*x+5+rng.random(10)\n",
    "print(x,y)\n"
   ]
  },
  {
   "cell_type": "markdown",
   "id": "a6918583",
   "metadata": {},
   "source": [
    "### Step 2. Design Matrix"
   ]
  },
  {
   "cell_type": "code",
   "execution_count": 30,
   "id": "3f2a2c87",
   "metadata": {},
   "outputs": [
    {
     "name": "stdout",
     "output_type": "stream",
     "text": [
      "[[1. 0.]\n",
      " [1. 1.]\n",
      " [1. 2.]\n",
      " [1. 3.]\n",
      " [1. 4.]\n",
      " [1. 5.]\n",
      " [1. 6.]\n",
      " [1. 7.]\n",
      " [1. 8.]\n",
      " [1. 9.]]\n"
     ]
    }
   ],
   "source": [
    "X = np.c_[np.ones(10), x]\n",
    "print(X)"
   ]
  },
  {
   "cell_type": "markdown",
   "id": "12d0f73c",
   "metadata": {},
   "source": [
    "### Step 3. Calculate Theta using this equation θ = (XᵀX)⁻¹Xᵀy"
   ]
  },
  {
   "cell_type": "code",
   "execution_count": 39,
   "id": "14c46f26",
   "metadata": {},
   "outputs": [
    {
     "name": "stdout",
     "output_type": "stream",
     "text": [
      "[5.84465645 1.9469636 ]\n"
     ]
    }
   ],
   "source": [
    "# Xᵀ\n",
    "XT=X.T\n",
    "# XᵀX\n",
    "XTX=XT@X\n",
    "# (XᵀX)⁻¹\n",
    "from numpy.linalg import inv\n",
    "XTX_inv=inv(XTX)\n",
    "# Xᵀy\n",
    "XTy=XT@y\n",
    "\n",
    "# theta calculate\n",
    "theta=XTX_inv @ XTy\n",
    "print(theta)\n"
   ]
  },
  {
   "cell_type": "code",
   "execution_count": null,
   "id": "8574b5f4",
   "metadata": {},
   "outputs": [],
   "source": []
  }
 ],
 "metadata": {
  "kernelspec": {
   "display_name": "Python 3",
   "language": "python",
   "name": "python3"
  },
  "language_info": {
   "codemirror_mode": {
    "name": "ipython",
    "version": 3
   },
   "file_extension": ".py",
   "mimetype": "text/x-python",
   "name": "python",
   "nbconvert_exporter": "python",
   "pygments_lexer": "ipython3",
   "version": "3.13.1"
  }
 },
 "nbformat": 4,
 "nbformat_minor": 5
}
